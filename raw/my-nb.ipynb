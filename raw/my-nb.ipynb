{
 "cells": [
  {
   "cell_type": "code",
   "execution_count": 1,
   "metadata": {
    "collapsed": true
   },
   "outputs": [],
   "source": [
    "import boto3\n",
    "import sqlalchemy\n",
    "import pandas as pd"
   ]
  },
  {
   "cell_type": "code",
   "execution_count": 4,
   "outputs": [
    {
     "data": {
      "text/plain": "'1.3.23'"
     },
     "execution_count": 4,
     "metadata": {},
     "output_type": "execute_result"
    }
   ],
   "source": [
    "sqlalchemy.__version__"
   ],
   "metadata": {
    "collapsed": false,
    "pycharm": {
     "name": "#%%\n"
    }
   }
  },
  {
   "cell_type": "code",
   "execution_count": 5,
   "outputs": [],
   "source": [
    "engine = sqlalchemy.create_engine(\"sqlite:///../data/gc.db\")"
   ],
   "metadata": {
    "collapsed": false,
    "pycharm": {
     "name": "#%%\n"
    }
   }
  },
  {
   "cell_type": "code",
   "execution_count": 6,
   "outputs": [
    {
     "data": {
      "text/plain": "['tb_lobby_stats_player', 'tb_medalha', 'tb_players', 'tb_players_medalha']"
     },
     "execution_count": 6,
     "metadata": {},
     "output_type": "execute_result"
    }
   ],
   "source": [
    "engine.table_names()"
   ],
   "metadata": {
    "collapsed": false,
    "pycharm": {
     "name": "#%%\n"
    }
   }
  },
  {
   "cell_type": "code",
   "execution_count": 7,
   "outputs": [],
   "source": [
    "df = pd.read_sql_table('tb_players', engine)"
   ],
   "metadata": {
    "collapsed": false,
    "pycharm": {
     "name": "#%%\n"
    }
   }
  },
  {
   "cell_type": "code",
   "execution_count": 8,
   "outputs": [
    {
     "data": {
      "text/plain": "      idPlayer  flFacebook  flTwitter  flTwitch descCountry  \\\n0            1           0          0         0          cl   \n1            2           0          0         0          br   \n2            3           0          0         0          br   \n3            4           0          0         0          br   \n4            5           0          0         0          ar   \n...        ...         ...        ...       ...         ...   \n2711      2712           0          0         0          br   \n2712      2713           0          0         0          br   \n2713      2714           0          0         0          br   \n2714      2715           0          0         0          br   \n2715      2716           0          0         0          br   \n\n                  dtBirth       dtRegistration  \n0                    None  2021-03-19 21:31:39  \n1                    None  2020-05-06 19:28:29  \n2                    None  2020-01-28 13:00:38  \n3                    None  2017-05-31 16:13:51  \n4                    None  2021-02-08 11:57:21  \n...                   ...                  ...  \n2711  2000-03-03 00:00:00  2021-03-07 17:24:26  \n2712                 None  2019-07-12 03:32:47  \n2713  2000-06-23 00:00:00  2017-09-12 22:43:37  \n2714  2001-02-21 00:00:00  2019-04-28 12:18:47  \n2715  1999-12-04 00:00:00  2018-05-14 13:52:06  \n\n[2716 rows x 7 columns]",
      "text/html": "<div>\n<style scoped>\n    .dataframe tbody tr th:only-of-type {\n        vertical-align: middle;\n    }\n\n    .dataframe tbody tr th {\n        vertical-align: top;\n    }\n\n    .dataframe thead th {\n        text-align: right;\n    }\n</style>\n<table border=\"1\" class=\"dataframe\">\n  <thead>\n    <tr style=\"text-align: right;\">\n      <th></th>\n      <th>idPlayer</th>\n      <th>flFacebook</th>\n      <th>flTwitter</th>\n      <th>flTwitch</th>\n      <th>descCountry</th>\n      <th>dtBirth</th>\n      <th>dtRegistration</th>\n    </tr>\n  </thead>\n  <tbody>\n    <tr>\n      <th>0</th>\n      <td>1</td>\n      <td>0</td>\n      <td>0</td>\n      <td>0</td>\n      <td>cl</td>\n      <td>None</td>\n      <td>2021-03-19 21:31:39</td>\n    </tr>\n    <tr>\n      <th>1</th>\n      <td>2</td>\n      <td>0</td>\n      <td>0</td>\n      <td>0</td>\n      <td>br</td>\n      <td>None</td>\n      <td>2020-05-06 19:28:29</td>\n    </tr>\n    <tr>\n      <th>2</th>\n      <td>3</td>\n      <td>0</td>\n      <td>0</td>\n      <td>0</td>\n      <td>br</td>\n      <td>None</td>\n      <td>2020-01-28 13:00:38</td>\n    </tr>\n    <tr>\n      <th>3</th>\n      <td>4</td>\n      <td>0</td>\n      <td>0</td>\n      <td>0</td>\n      <td>br</td>\n      <td>None</td>\n      <td>2017-05-31 16:13:51</td>\n    </tr>\n    <tr>\n      <th>4</th>\n      <td>5</td>\n      <td>0</td>\n      <td>0</td>\n      <td>0</td>\n      <td>ar</td>\n      <td>None</td>\n      <td>2021-02-08 11:57:21</td>\n    </tr>\n    <tr>\n      <th>...</th>\n      <td>...</td>\n      <td>...</td>\n      <td>...</td>\n      <td>...</td>\n      <td>...</td>\n      <td>...</td>\n      <td>...</td>\n    </tr>\n    <tr>\n      <th>2711</th>\n      <td>2712</td>\n      <td>0</td>\n      <td>0</td>\n      <td>0</td>\n      <td>br</td>\n      <td>2000-03-03 00:00:00</td>\n      <td>2021-03-07 17:24:26</td>\n    </tr>\n    <tr>\n      <th>2712</th>\n      <td>2713</td>\n      <td>0</td>\n      <td>0</td>\n      <td>0</td>\n      <td>br</td>\n      <td>None</td>\n      <td>2019-07-12 03:32:47</td>\n    </tr>\n    <tr>\n      <th>2713</th>\n      <td>2714</td>\n      <td>0</td>\n      <td>0</td>\n      <td>0</td>\n      <td>br</td>\n      <td>2000-06-23 00:00:00</td>\n      <td>2017-09-12 22:43:37</td>\n    </tr>\n    <tr>\n      <th>2714</th>\n      <td>2715</td>\n      <td>0</td>\n      <td>0</td>\n      <td>0</td>\n      <td>br</td>\n      <td>2001-02-21 00:00:00</td>\n      <td>2019-04-28 12:18:47</td>\n    </tr>\n    <tr>\n      <th>2715</th>\n      <td>2716</td>\n      <td>0</td>\n      <td>0</td>\n      <td>0</td>\n      <td>br</td>\n      <td>1999-12-04 00:00:00</td>\n      <td>2018-05-14 13:52:06</td>\n    </tr>\n  </tbody>\n</table>\n<p>2716 rows × 7 columns</p>\n</div>"
     },
     "execution_count": 8,
     "metadata": {},
     "output_type": "execute_result"
    }
   ],
   "source": [
    "df"
   ],
   "metadata": {
    "collapsed": false,
    "pycharm": {
     "name": "#%%\n"
    }
   }
  },
  {
   "cell_type": "code",
   "execution_count": null,
   "outputs": [],
   "source": [],
   "metadata": {
    "collapsed": false,
    "pycharm": {
     "name": "#%%\n"
    }
   }
  }
 ],
 "metadata": {
  "kernelspec": {
   "display_name": "Python 3",
   "language": "python",
   "name": "python3"
  },
  "language_info": {
   "codemirror_mode": {
    "name": "ipython",
    "version": 2
   },
   "file_extension": ".py",
   "mimetype": "text/x-python",
   "name": "python",
   "nbconvert_exporter": "python",
   "pygments_lexer": "ipython2",
   "version": "2.7.6"
  }
 },
 "nbformat": 4,
 "nbformat_minor": 0
}